{
 "cells": [
  {
   "cell_type": "code",
   "execution_count": null,
   "metadata": {},
   "outputs": [],
   "source": [
    "\"\"\"\n",
    "You are given an array of integers. On each move you are allowed to increase\n",
    "exactly one of its element by one. Find the minimal number of moves required \n",
    "to obtain a strictly increasing sequence from the input.\n",
    "\"\"\""
   ]
  },
  {
   "cell_type": "code",
   "execution_count": 9,
   "metadata": {},
   "outputs": [],
   "source": [
    "def arrayChange(inputArray):\n",
    "    moves = 0\n",
    "    \n",
    "    for i in range(len(inputArray) - 1):\n",
    "        #We save the location of the first and the following number (i+1)\n",
    "        left = inputArray[i]\n",
    "        right = inputArray[i + 1]\n",
    "        #If the ith number is bigger than the ith+1 number we take their difference and add 1\n",
    "        if left >= right:\n",
    "            tmp_moves = left - right + 1\n",
    "            #we add difference + 1 to the ith + 1 element\n",
    "            #because that is how many moves(ones we need to add) we have ot make \n",
    "            inputArray[i + 1] += tmp_moves\n",
    "            moves += tmp_moves\n",
    "            #we print how the array is changing\n",
    "            print(inputArray)\n",
    "    #we print the final result of the arrat\n",
    "    print(\"The final array: \", inputArray)        \n",
    "    return moves  "
   ]
  },
  {
   "cell_type": "code",
   "execution_count": 8,
   "metadata": {},
   "outputs": [
    {
     "name": "stdout",
     "output_type": "stream",
     "text": [
      "[8, 9, 1]\n",
      "[8, 9, 10]\n",
      "The final array:  [8, 9, 10]\n",
      "15\n"
     ]
    }
   ],
   "source": [
    "print(arrayChange([8,3,1]))\n"
   ]
  },
  {
   "cell_type": "code",
   "execution_count": null,
   "metadata": {},
   "outputs": [],
   "source": []
  }
 ],
 "metadata": {
  "kernelspec": {
   "display_name": "Python 3",
   "language": "python",
   "name": "python3"
  },
  "language_info": {
   "codemirror_mode": {
    "name": "ipython",
    "version": 3
   },
   "file_extension": ".py",
   "mimetype": "text/x-python",
   "name": "python",
   "nbconvert_exporter": "python",
   "pygments_lexer": "ipython3",
   "version": "3.6.0"
  }
 },
 "nbformat": 4,
 "nbformat_minor": 2
}
